{
 "cells": [
  {
   "cell_type": "markdown",
   "metadata": {},
   "source": [
    "Linear Regression\n",
    "===="
   ]
  },
  {
   "cell_type": "code",
   "execution_count": 5,
   "metadata": {},
   "outputs": [
    {
     "name": "stdout",
     "output_type": "stream",
     "text": [
      "   MODELYEAR  MAKE  MODEL  VEHICLECLASS  ENGINESIZE  CYLINDERS  TRANSMISSION  \\\n",
      "0       2014     0    329             0         2.0          4            10   \n",
      "1       2014     0    329             0         2.4          4            20   \n",
      "2       2014     0    330             0         1.5          4            17   \n",
      "3       2014     0    389            11         3.5          6            11   \n",
      "4       2014     0    483            11         3.5          6            11   \n",
      "\n",
      "   FUELTYPE  FUELCONSUMPTION_CITY  FUELCONSUMPTION_HWY  FUELCONSUMPTION_COMB  \\\n",
      "0         3                   9.9                  6.7                   8.5   \n",
      "1         3                  11.2                  7.7                   9.6   \n",
      "2         3                   6.0                  5.8                   5.9   \n",
      "3         3                  12.7                  9.1                  11.1   \n",
      "4         3                  12.1                  8.7                  10.6   \n",
      "\n",
      "   FUELCONSUMPTION_COMB_MPG  CO2EMISSIONS  \n",
      "0                        33           196  \n",
      "1                        29           221  \n",
      "2                        48           136  \n",
      "3                        25           255  \n",
      "4                        27           244  \n",
      "Correlation Train = 0.8984355467431046\n",
      "Correlation Test = 0.8776279190263454\n"
     ]
    }
   ],
   "source": [
    "import numpy as np\n",
    "import pandas as pd  \n",
    "import sklearn as skl\n",
    "from sklearn.preprocessing import LabelEncoder\n",
    "from sklearn.model_selection import train_test_split\n",
    "from sklearn.linear_model import LinearRegression\n",
    "from sklearn.preprocessing import StandardScaler\n",
    "from sklearn.preprocessing import PolynomialFeatures\n",
    "from sklearn.pipeline import make_pipeline\n",
    "\n",
    "\n",
    "csv = pd.read_csv(\"./FuelConsumption.csv\")\n",
    "# print(csv.head())\n",
    "# csv.info()\n",
    "le=LabelEncoder()\n",
    "csv['MAKE']=le.fit_transform(csv['MAKE'])\n",
    "csv['MODEL']=le.fit_transform(csv['MODEL'])\n",
    "csv['VEHICLECLASS']=le.fit_transform(csv['VEHICLECLASS'])\n",
    "csv['TRANSMISSION']=le.fit_transform(csv['TRANSMISSION'])\n",
    "csv['FUELTYPE']=le.fit_transform(csv['FUELTYPE'])\n",
    "# print(csv.head())\n",
    "\n",
    "x=csv[['MODELYEAR', 'MAKE', 'MODEL', 'VEHICLECLASS', 'ENGINESIZE', 'CYLINDERS', 'TRANSMISSION', 'FUELTYPE', 'FUELCONSUMPTION_CITY', 'FUELCONSUMPTION_HWY', 'FUELCONSUMPTION_COMB', 'FUELCONSUMPTION_COMB_MPG']]\n",
    "y=csv['CO2EMISSIONS']\n",
    "print(csv.head())\n",
    "\n",
    "x_train, x_test, y_train, y_test = train_test_split(x, y, test_size=0.15 , shuffle=False, random_state = 0)\n",
    "\n",
    "poly_features = PolynomialFeatures(degree=1, include_bias=False) # degree=3 est le meilleur, à partir de 4 on a du surAprentissage mais 1 est celui qui convient le mieux aux changements de variables lors de l'utilisation du modèle\n",
    "std_scaler = StandardScaler()\n",
    "lin_reg = LinearRegression()\n",
    "polynomial_regression = make_pipeline(poly_features, std_scaler, lin_reg)\n",
    "polynomial_regression.fit(x_train, y_train)\n",
    "print('Correlation Train =', polynomial_regression.score(x_train, y_train))\n",
    "print('Correlation Test =', polynomial_regression.score(x_test, y_test))\n",
    "\n",
    "import pickle\n",
    "\n",
    "filename = 'co2emmisions.pickle'\n",
    "pickle.dump(polynomial_regression, open(filename, 'wb'))\n",
    "\n",
    "#installer pipreqsnb\n",
    "#pip install pipreqsnb\n",
    "#faire $pipreqs  .\n",
    "#pour générer le fichier requirements.txt\n"
   ]
  }
 ],
 "metadata": {
  "kernelspec": {
   "display_name": "Python 3",
   "language": "python",
   "name": "python3"
  },
  "language_info": {
   "codemirror_mode": {
    "name": "ipython",
    "version": 3
   },
   "file_extension": ".py",
   "mimetype": "text/x-python",
   "name": "python",
   "nbconvert_exporter": "python",
   "pygments_lexer": "ipython3",
   "version": "3.11.4"
  }
 },
 "nbformat": 4,
 "nbformat_minor": 2
}
